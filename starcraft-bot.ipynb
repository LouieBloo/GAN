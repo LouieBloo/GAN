{
 "cells": [
  {
   "cell_type": "code",
   "execution_count": 33,
   "metadata": {},
   "outputs": [],
   "source": [
    "import os\n",
    "os.environ[\"TF_CPP_MIN_LOG_LEVEL\"] = \"2\"\n",
    "import tensorflow as tf\n",
    "from tensorflow import keras\n",
    "from tensorflow.keras import layers\n",
    "from tqdm import tqdm\n",
    "import numpy as np\n",
    "import matplotlib.pyplot as plt\n",
    "import sys\n",
    "import bwapiEnums\n"
   ]
  },
  {
   "cell_type": "code",
   "execution_count": 34,
   "metadata": {},
   "outputs": [],
   "source": [
    "inputUnitCount = 256\n",
    "outputUnitCount = 256\n",
    "output_sequence_length = 5\n",
    "unitTypeTextVectorizationLayer = keras.layers.TextVectorization(output_sequence_length=output_sequence_length, vocabulary=bwapiEnums.allUnits)\n",
    "unitActionsTextVectorizationLayer = keras.layers.TextVectorization(output_sequence_length=output_sequence_length, vocabulary=bwapiEnums.unitActions)\n",
    "unitOrdersTextVectorizationLayer = keras.layers.TextVectorization(output_sequence_length=output_sequence_length, vocabulary=bwapiEnums.unitOrders)"
   ]
  },
  {
   "cell_type": "code",
   "execution_count": 35,
   "metadata": {},
   "outputs": [
    {
     "name": "stdout",
     "output_type": "stream",
     "text": [
      "KerasTensor(type_spec=TensorSpec(shape=(None, 256), dtype=tf.string, name='UnitTypeInput'), name='UnitTypeInput', description=\"created by layer 'UnitTypeInput'\")\n"
     ]
    }
   ],
   "source": [
    "# Input layers\n",
    "unitTypeInput = layers.Input(shape=(inputUnitCount,), dtype=tf.string, name='UnitTypeInput')\n",
    "unitOrderInput = layers.Input(shape=(inputUnitCount,), dtype=tf.string, name='UnitOrderInput')\n",
    "positionInput = layers.Input(shape=(inputUnitCount, 2), dtype=tf.float32, name='PositionInput')\n",
    "\n",
    "print(unitTypeInput)"
   ]
  },
  {
   "cell_type": "code",
   "execution_count": 36,
   "metadata": {},
   "outputs": [],
   "source": [
    "#unitTypeVectorized = layers.Lambda(lambda x: unitTypeTextVectorizationLayer(x))(unitTypeInput)\n",
    "#unitTypeVectorized = unitTypeTextVectorizationLayer(unitTypeInput)\n",
    "# Vectorize the unit type and unit order inputs\n",
    "unitTypeVectorized_list = [unitTypeTextVectorizationLayer(unitTypeInput[:, i]) for i in range(inputUnitCount)]\n",
    "unitOrderVectorized_list = [unitActionsTextVectorizationLayer(unitOrderInput[:, i]) for i in range(inputUnitCount)]\n",
    "\n",
    "# Stack the vectorized outputs back to rank-2 tensors\n",
    "unitTypeVectorized = layers.Concatenate(axis=1)(unitTypeVectorized_list)\n",
    "unitOrderVectorized = layers.Concatenate(axis=1)(unitOrderVectorized_list)\n",
    "\n",
    "# Reshape the stacked outputs\n",
    "unitTypeVectorized = layers.Reshape((inputUnitCount, -1))(unitTypeVectorized)\n",
    "unitOrderVectorized = layers.Reshape((inputUnitCount, -1))(unitOrderVectorized)\n",
    "\n",
    "# Convert the vectorized outputs to float32\n",
    "unitTypeVectorized = tf.cast(unitTypeVectorized, tf.float32)\n",
    "unitOrderVectorized = tf.cast(unitOrderVectorized, tf.float32)"
   ]
  },
  {
   "cell_type": "code",
   "execution_count": 41,
   "metadata": {},
   "outputs": [
    {
     "name": "stdout",
     "output_type": "stream",
     "text": [
      "KerasTensor(type_spec=TensorSpec(shape=(None, 256, 12), dtype=tf.float32, name=None), name='concatenate_12/concat:0', description=\"created by layer 'concatenate_12'\")\n"
     ]
    }
   ],
   "source": [
    "\n",
    "# Combine the vectorized inputs and position input\n",
    "combinedInputs = layers.Concatenate(axis=-1)([unitTypeVectorized, unitOrderVectorized, positionInput])\n",
    "print(combinedInputs)"
   ]
  },
  {
   "cell_type": "code",
   "execution_count": 40,
   "metadata": {},
   "outputs": [
    {
     "name": "stdout",
     "output_type": "stream",
     "text": [
      "KerasTensor(type_spec=TensorSpec(shape=(None, 256, 2560), dtype=tf.float32, name=None), name='dense_16/Relu:0', description=\"created by layer 'dense_16'\")\n",
      "KerasTensor(type_spec=TensorSpec(shape=(None, 256, 512), dtype=tf.float32, name=None), name='dense_18/Relu:0', description=\"created by layer 'dense_18'\")\n"
     ]
    },
    {
     "ename": "ValueError",
     "evalue": "Exception encountered when calling layer \"reshape_15\" (type Reshape).\n\ntotal size of new array must be unchanged, input_shape = [256, 512], output_shape = [256, 2]\n\nCall arguments received by layer \"reshape_15\" (type Reshape):\n  • inputs=tf.Tensor(shape=(None, 256, 512), dtype=float32)",
     "output_type": "error",
     "traceback": [
      "\u001b[1;31m---------------------------------------------------------------------------\u001b[0m",
      "\u001b[1;31mValueError\u001b[0m                                Traceback (most recent call last)",
      "Cell \u001b[1;32mIn[40], line 8\u001b[0m\n\u001b[0;32m      6\u001b[0m unitOrderPositionOutputLayer \u001b[39m=\u001b[39m layers\u001b[39m.\u001b[39mDense(outputUnitCount\u001b[39m*\u001b[39m\u001b[39m2\u001b[39m, activation\u001b[39m=\u001b[39m\u001b[39m'\u001b[39m\u001b[39mrelu\u001b[39m\u001b[39m'\u001b[39m)(hiddenLayer)\n\u001b[0;32m      7\u001b[0m \u001b[39mprint\u001b[39m(unitOrderPositionOutputLayer)\n\u001b[1;32m----> 8\u001b[0m unitOrderPositionOutputLayer \u001b[39m=\u001b[39m layers\u001b[39m.\u001b[39;49mReshape((outputUnitCount, \u001b[39m2\u001b[39;49m))(unitOrderPositionOutputLayer)\n\u001b[0;32m     10\u001b[0m model \u001b[39m=\u001b[39m keras\u001b[39m.\u001b[39mmodels\u001b[39m.\u001b[39mModel(inputs\u001b[39m=\u001b[39m[unitTypeInput, unitOrderInput, positionInput], outputs\u001b[39m=\u001b[39m[unitOrderOutputLayer,unitOrderPositionOutputLayer])\n",
      "File \u001b[1;32md:\\Code\\Anaconda\\envs\\tf\\lib\\site-packages\\keras\\utils\\traceback_utils.py:70\u001b[0m, in \u001b[0;36mfilter_traceback.<locals>.error_handler\u001b[1;34m(*args, **kwargs)\u001b[0m\n\u001b[0;32m     67\u001b[0m     filtered_tb \u001b[39m=\u001b[39m _process_traceback_frames(e\u001b[39m.\u001b[39m__traceback__)\n\u001b[0;32m     68\u001b[0m     \u001b[39m# To get the full stack trace, call:\u001b[39;00m\n\u001b[0;32m     69\u001b[0m     \u001b[39m# `tf.debugging.disable_traceback_filtering()`\u001b[39;00m\n\u001b[1;32m---> 70\u001b[0m     \u001b[39mraise\u001b[39;00m e\u001b[39m.\u001b[39mwith_traceback(filtered_tb) \u001b[39mfrom\u001b[39;00m \u001b[39mNone\u001b[39m\n\u001b[0;32m     71\u001b[0m \u001b[39mfinally\u001b[39;00m:\n\u001b[0;32m     72\u001b[0m     \u001b[39mdel\u001b[39;00m filtered_tb\n",
      "File \u001b[1;32md:\\Code\\Anaconda\\envs\\tf\\lib\\site-packages\\keras\\layers\\reshaping\\reshape.py:118\u001b[0m, in \u001b[0;36mReshape._fix_unknown_dimension\u001b[1;34m(self, input_shape, output_shape)\u001b[0m\n\u001b[0;32m    116\u001b[0m     output_shape[unknown] \u001b[39m=\u001b[39m original \u001b[39m/\u001b[39m\u001b[39m/\u001b[39m known\n\u001b[0;32m    117\u001b[0m \u001b[39melif\u001b[39;00m original \u001b[39m!=\u001b[39m known:\n\u001b[1;32m--> 118\u001b[0m     \u001b[39mraise\u001b[39;00m \u001b[39mValueError\u001b[39;00m(msg)\n\u001b[0;32m    119\u001b[0m \u001b[39mreturn\u001b[39;00m output_shape\n",
      "\u001b[1;31mValueError\u001b[0m: Exception encountered when calling layer \"reshape_15\" (type Reshape).\n\ntotal size of new array must be unchanged, input_shape = [256, 512], output_shape = [256, 2]\n\nCall arguments received by layer \"reshape_15\" (type Reshape):\n  • inputs=tf.Tensor(shape=(None, 256, 512), dtype=float32)"
     ]
    }
   ],
   "source": [
    "# Add more layers as needed for your specific use case\n",
    "hiddenLayer = layers.Dense(inputUnitCount*10, activation='relu')(combinedInputs)\n",
    "\n",
    "print(hiddenLayer)\n",
    "unitOrderOutputLayer = layers.Dense(outputUnitCount * len(bwapiEnums.unitOrders), activation='softmax')(hiddenLayer)\n",
    "unitOrderPositionOutputLayer = layers.Dense(outputUnitCount*2, activation='relu')(hiddenLayer)\n",
    "print(unitOrderPositionOutputLayer)\n",
    "unitOrderPositionOutputLayer = layers.Reshape((outputUnitCount, 2))(unitOrderPositionOutputLayer)\n",
    "\n",
    "model = keras.models.Model(inputs=[unitTypeInput, unitOrderInput, positionInput], outputs=[unitOrderOutputLayer,unitOrderPositionOutputLayer])\n"
   ]
  },
  {
   "cell_type": "code",
   "execution_count": null,
   "metadata": {},
   "outputs": [],
   "source": [
    "model.summary()"
   ]
  },
  {
   "cell_type": "code",
   "execution_count": null,
   "metadata": {},
   "outputs": [],
   "source": []
  },
  {
   "cell_type": "code",
   "execution_count": null,
   "metadata": {},
   "outputs": [],
   "source": []
  }
 ],
 "metadata": {
  "kernelspec": {
   "display_name": "Python 3.9.15 ('tf')",
   "language": "python",
   "name": "python3"
  },
  "language_info": {
   "codemirror_mode": {
    "name": "ipython",
    "version": 3
   },
   "file_extension": ".py",
   "mimetype": "text/x-python",
   "name": "python",
   "nbconvert_exporter": "python",
   "pygments_lexer": "ipython3",
   "version": "3.9.16"
  },
  "orig_nbformat": 4,
  "vscode": {
   "interpreter": {
    "hash": "fb75ca023a83b6caf8f1f559b19e7b17d171fd17528d93a5502dd82e32e6be3f"
   }
  }
 },
 "nbformat": 4,
 "nbformat_minor": 2
}
